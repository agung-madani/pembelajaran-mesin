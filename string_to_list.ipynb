{
 "cells": [
  {
   "cell_type": "markdown",
   "metadata": {},
   "source": [
    "# String to List"
   ]
  },
  {
   "cell_type": "code",
   "execution_count": 45,
   "metadata": {},
   "outputs": [],
   "source": [
    "hall = 11.25\n",
    "kit = 18.0\n",
    "liv = 20.0\n",
    "bed = 10.75\n",
    "bath = 9.50"
   ]
  },
  {
   "cell_type": "code",
   "execution_count": 46,
   "metadata": {},
   "outputs": [],
   "source": [
    "areas = [hall,kit,liv,bed,bath]"
   ]
  },
  {
   "cell_type": "code",
   "execution_count": 47,
   "metadata": {},
   "outputs": [
    {
     "name": "stdout",
     "output_type": "stream",
     "text": [
      "[11.25, 18.0, 20.0, 10.75, 9.5]\n"
     ]
    }
   ],
   "source": [
    "print(areas)"
   ]
  },
  {
   "cell_type": "code",
   "execution_count": 48,
   "metadata": {},
   "outputs": [
    {
     "name": "stdout",
     "output_type": "stream",
     "text": [
      "9.5\n"
     ]
    }
   ],
   "source": [
    "print(areas[-1])"
   ]
  },
  {
   "cell_type": "code",
   "execution_count": 49,
   "metadata": {},
   "outputs": [
    {
     "name": "stdout",
     "output_type": "stream",
     "text": [
      "[11.25, 18.0, 20.0]\n"
     ]
    }
   ],
   "source": [
    "print(areas[:3])"
   ]
  },
  {
   "cell_type": "markdown",
   "metadata": {},
   "source": [
    "# Belajar split kalimat ke dalam list"
   ]
  },
  {
   "cell_type": "markdown",
   "metadata": {},
   "source": [
    "### 1. Split kalimat dengan nltk"
   ]
  },
  {
   "cell_type": "code",
   "execution_count": 50,
   "metadata": {},
   "outputs": [],
   "source": [
    "kalimat=\"saya akan pergi ke kampus\""
   ]
  },
  {
   "cell_type": "code",
   "execution_count": 51,
   "metadata": {},
   "outputs": [],
   "source": [
    "import nltk"
   ]
  },
  {
   "cell_type": "code",
   "execution_count": 52,
   "metadata": {},
   "outputs": [
    {
     "name": "stdout",
     "output_type": "stream",
     "text": [
      "showing info https://raw.githubusercontent.com/nltk/nltk_data/gh-pages/index.xml\n"
     ]
    },
    {
     "data": {
      "text/plain": [
       "True"
      ]
     },
     "execution_count": 52,
     "metadata": {},
     "output_type": "execute_result"
    }
   ],
   "source": [
    "nltk.download()"
   ]
  },
  {
   "cell_type": "code",
   "execution_count": 53,
   "metadata": {},
   "outputs": [
    {
     "name": "stderr",
     "output_type": "stream",
     "text": [
      "[nltk_data] Downloading package punkt to\n",
      "[nltk_data]     C:\\Users\\agung\\AppData\\Roaming\\nltk_data...\n",
      "[nltk_data]   Package punkt is already up-to-date!\n"
     ]
    },
    {
     "data": {
      "text/plain": [
       "True"
      ]
     },
     "execution_count": 53,
     "metadata": {},
     "output_type": "execute_result"
    }
   ],
   "source": [
    "nltk.download('punkt')"
   ]
  },
  {
   "cell_type": "code",
   "execution_count": 54,
   "metadata": {},
   "outputs": [],
   "source": [
    "from nltk.tokenize import word_tokenize"
   ]
  },
  {
   "cell_type": "code",
   "execution_count": 55,
   "metadata": {},
   "outputs": [
    {
     "name": "stdout",
     "output_type": "stream",
     "text": [
      "['saya', 'akan', 'pergi', 'ke', 'kampus']\n"
     ]
    }
   ],
   "source": [
    "print(word_tokenize(kalimat))"
   ]
  },
  {
   "cell_type": "code",
   "execution_count": 56,
   "metadata": {},
   "outputs": [],
   "source": [
    "kalimat_pecah=word_tokenize(kalimat)"
   ]
  },
  {
   "cell_type": "code",
   "execution_count": 57,
   "metadata": {},
   "outputs": [
    {
     "name": "stdout",
     "output_type": "stream",
     "text": [
      "5\n"
     ]
    }
   ],
   "source": [
    "print(len(kalimat_pecah))"
   ]
  },
  {
   "cell_type": "code",
   "execution_count": 58,
   "metadata": {},
   "outputs": [
    {
     "name": "stdout",
     "output_type": "stream",
     "text": [
      "['saya', 'akan', 'pergi', 'ke', 'kampus']\n"
     ]
    }
   ],
   "source": [
    "print(kalimat_pecah)"
   ]
  },
  {
   "cell_type": "code",
   "execution_count": 59,
   "metadata": {},
   "outputs": [
    {
     "name": "stdout",
     "output_type": "stream",
     "text": [
      "['saya', 'akan']\n"
     ]
    }
   ],
   "source": [
    "print(kalimat_pecah[:-3])"
   ]
  },
  {
   "cell_type": "markdown",
   "metadata": {},
   "source": [
    "### 2. Split kalimat dengan function str.split"
   ]
  },
  {
   "cell_type": "code",
   "execution_count": 60,
   "metadata": {},
   "outputs": [
    {
     "name": "stdout",
     "output_type": "stream",
     "text": [
      "['saya', 'akan', 'pergi', 'ke', 'kampus']\n"
     ]
    }
   ],
   "source": [
    "print(str.split(kalimat))"
   ]
  },
  {
   "cell_type": "code",
   "execution_count": 61,
   "metadata": {},
   "outputs": [],
   "source": [
    "kal_split  = str.split(kalimat)"
   ]
  },
  {
   "cell_type": "code",
   "execution_count": 62,
   "metadata": {},
   "outputs": [
    {
     "name": "stdout",
     "output_type": "stream",
     "text": [
      "['saya', 'akan', 'pergi', 'ke', 'kampus']\n"
     ]
    }
   ],
   "source": [
    "print(kal_split)"
   ]
  },
  {
   "cell_type": "markdown",
   "metadata": {},
   "source": [
    "### Menghitung Jumlah kata dalam list"
   ]
  },
  {
   "cell_type": "code",
   "execution_count": 63,
   "metadata": {},
   "outputs": [],
   "source": [
    "JKata=len(kal_split)"
   ]
  },
  {
   "cell_type": "code",
   "execution_count": 64,
   "metadata": {},
   "outputs": [
    {
     "name": "stdout",
     "output_type": "stream",
     "text": [
      "5\n"
     ]
    }
   ],
   "source": [
    "print(JKata)"
   ]
  },
  {
   "cell_type": "markdown",
   "metadata": {},
   "source": [
    "### Mendifinisikan list"
   ]
  },
  {
   "cell_type": "code",
   "execution_count": 65,
   "metadata": {},
   "outputs": [
    {
     "data": {
      "text/plain": [
       "['apple', 'banana']"
      ]
     },
     "execution_count": 65,
     "metadata": {},
     "output_type": "execute_result"
    }
   ],
   "source": [
    "fruits=[] # empt list\n",
    "fruits=[\"apple\",\"banana\"] # list with 2 elements\n",
    "fruits"
   ]
  },
  {
   "cell_type": "code",
   "execution_count": 66,
   "metadata": {},
   "outputs": [],
   "source": [
    "Kal1 = \"Sarimin pergi ke pasar naik motor\"\n",
    "Kal2 = \"Monyet suka pisang\"\n",
    "Kal3 = \"Kucing sangat suka ikan asin\"\n",
    "Kal4 = \"Saya suka bakso urat\""
   ]
  },
  {
   "cell_type": "code",
   "execution_count": 67,
   "metadata": {},
   "outputs": [
    {
     "name": "stdout",
     "output_type": "stream",
     "text": [
      "['Sarimin', 'pergi', 'ke', 'pasar', 'naik', 'motor']\n"
     ]
    }
   ],
   "source": [
    "splitKal1 = word_tokenize(Kal1)\n",
    "print(splitKal1)"
   ]
  },
  {
   "cell_type": "code",
   "execution_count": 68,
   "metadata": {},
   "outputs": [
    {
     "name": "stdout",
     "output_type": "stream",
     "text": [
      "['Monyet', 'suka', 'pisang']\n"
     ]
    }
   ],
   "source": [
    "splitKal2 = word_tokenize(Kal2)\n",
    "print(splitKal2)"
   ]
  },
  {
   "cell_type": "code",
   "execution_count": 69,
   "metadata": {},
   "outputs": [
    {
     "name": "stdout",
     "output_type": "stream",
     "text": [
      "['Kucing', 'sangat', 'suka', 'ikan', 'asin']\n"
     ]
    }
   ],
   "source": [
    "splitKal3 = word_tokenize(Kal3)\n",
    "print(splitKal3)"
   ]
  },
  {
   "cell_type": "code",
   "execution_count": 70,
   "metadata": {},
   "outputs": [
    {
     "name": "stdout",
     "output_type": "stream",
     "text": [
      "['Sarimin pergi ke pasar naik motor', 'Monyet suka pisang', 'Kucing sangat suka ikan asin', 'Saya suka bakso urat']\n"
     ]
    }
   ],
   "source": [
    "kumpulan_kal=[]\n",
    "kumpulan_kal.extend([Kal1,Kal2,Kal3,Kal4])\n",
    "print(kumpulan_kal)"
   ]
  },
  {
   "cell_type": "code",
   "execution_count": 71,
   "metadata": {},
   "outputs": [
    {
     "name": "stdout",
     "output_type": "stream",
     "text": [
      "[['Sarimin pergi ke pasar naik motor', 33], ['Monyet suka pisang', 18], ['Kucing sangat suka ikan asin', 28], ['Saya suka bakso urat', 20]]\n"
     ]
    }
   ],
   "source": [
    "alenKal1=[]\n",
    "alenKal2=[]\n",
    "alenKal3=[]\n",
    "alenKal4=[]\n",
    "akumpulan_lenKal=[]\n",
    "alenKal1.extend([Kal1,len(Kal1)])\n",
    "alenKal2.extend([Kal2,len(Kal2)])\n",
    "alenKal3.extend([Kal3,len(Kal3)])\n",
    "alenKal4.extend([Kal4,len(Kal4)])\n",
    "akumpulan_lenKal.extend([alenKal1,alenKal2,alenKal3,alenKal4])\n",
    "print(akumpulan_lenKal)"
   ]
  },
  {
   "cell_type": "code",
   "execution_count": 72,
   "metadata": {},
   "outputs": [
    {
     "name": "stdout",
     "output_type": "stream",
     "text": [
      "[['Sarimin pergi ke pasar naik motor', 6], ['Monyet suka pisang', 3], ['Kucing sangat suka ikan asin', 5], ['Saya suka bakso urat', 4]]\n"
     ]
    }
   ],
   "source": [
    "blenKal1=[]\n",
    "blenKal2=[]\n",
    "blenKal3=[]\n",
    "blenKal4=[]\n",
    "bkumpulan_lenKal=[]\n",
    "wordsKal1=str.split(Kal1)\n",
    "wordsKal2=str.split(Kal2)\n",
    "wordsKal3=str.split(Kal3)\n",
    "wordsKal4=str.split(Kal4)\n",
    "blenKal1.extend([Kal1,len(wordsKal1)])\n",
    "blenKal2.extend([Kal2,len(wordsKal2)])\n",
    "blenKal3.extend([Kal3,len(wordsKal3)])\n",
    "blenKal4.extend([Kal4,len(wordsKal4)])\n",
    "bkumpulan_lenKal.extend([blenKal1,blenKal2,blenKal3,blenKal4])\n",
    "print(bkumpulan_lenKal)"
   ]
  },
  {
   "cell_type": "code",
   "execution_count": 73,
   "metadata": {},
   "outputs": [
    {
     "name": "stdout",
     "output_type": "stream",
     "text": [
      "[['Sarimin pergi ke pasar naik motor', 33, 6], ['Monyet suka pisang', 18, 3], ['Kucing sangat suka ikan asin', 28, 5], ['Saya suka bakso urat', 20, 4]]\n"
     ]
    }
   ],
   "source": [
    "## String to List\n",
    "\n",
    "hall = 11.25\n",
    "kit = 18.0\n",
    "liv = 20.0\n",
    "bed = 10.75\n",
    "bath = 9.50\n",
    "\n",
    "areas = [hall,kit,liv,bed,bath]\n",
    "\n",
    "print(areas)\n",
    "\n",
    "print(areas[-1])\n",
    "\n",
    "print(areas[:3])clenKal1=[]\n",
    "clenKal2=[]\n",
    "clenKal3=[]\n",
    "clenKal4=[]\n",
    "ckumpulan_lenKal=[]\n",
    "wordsKal1=str.split(Kal1)\n",
    "wordsKal2=str.split(Kal2)\n",
    "wordsKal3=str.split(Kal3)\n",
    "wordsKal4=str.split(Kal4)\n",
    "clenKal1.extend([Kal1,len(Kal1),len(wordsKal1)])\n",
    "clenKal2.extend([Kal2,len(Kal2),len(wordsKal2)])\n",
    "clenKal3.extend([Kal3,len(Kal3),len(wordsKal3)])\n",
    "clenKal4.extend([Kal4,len(Kal4),len(wordsKal4)])\n",
    "ckumpulan_lenKal.extend([clenKal1,clenKal2,clenKal3,clenKal4])\n",
    "print(ckumpulan_lenKal)"
   ]
  }
 ],
 "metadata": {
  "kernelspec": {
   "display_name": "Python 3",
   "language": "python",
   "name": "python3"
  },
  "language_info": {
   "codemirror_mode": {
    "name": "ipython",
    "version": 3
   },
   "file_extension": ".py",
   "mimetype": "text/x-python",
   "name": "python",
   "nbconvert_exporter": "python",
   "pygments_lexer": "ipython3",
   "version": "3.8.3"
  }
 },
 "nbformat": 4,
 "nbformat_minor": 4
}
