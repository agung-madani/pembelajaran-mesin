{
 "cells": [
  {
   "cell_type": "markdown",
   "metadata": {},
   "source": [
    "# SENTIMEN ANALISIS MENGGUNAKAN TEXTBLOB"
   ]
  },
  {
   "cell_type": "code",
   "execution_count": 2,
   "metadata": {},
   "outputs": [],
   "source": [
    "from textblob import TextBlob"
   ]
  },
  {
   "cell_type": "code",
   "execution_count": 3,
   "metadata": {},
   "outputs": [],
   "source": [
    "testimonial = TextBlob(\"wow....its amazing movies. I hate Monday. I drink much juice. dedi like money. This coffe is amazing\")"
   ]
  },
  {
   "cell_type": "code",
   "execution_count": 4,
   "metadata": {},
   "outputs": [],
   "source": [
    "tessent = testimonial.sentences"
   ]
  },
  {
   "cell_type": "code",
   "execution_count": 5,
   "metadata": {},
   "outputs": [
    {
     "data": {
      "text/plain": [
       "[Sentence(\"wow....its amazing movies.\"),\n",
       " Sentence(\"I hate Monday.\"),\n",
       " Sentence(\"I drink much juice.\"),\n",
       " Sentence(\"dedi like money.\"),\n",
       " Sentence(\"This coffe is amazing\")]"
      ]
     },
     "execution_count": 5,
     "metadata": {},
     "output_type": "execute_result"
    }
   ],
   "source": [
    "tessent"
   ]
  },
  {
   "cell_type": "code",
   "execution_count": 6,
   "metadata": {},
   "outputs": [
    {
     "name": "stdout",
     "output_type": "stream",
     "text": [
      "Sentiment(polarity=0.6000000000000001, subjectivity=0.9)\n",
      "Sentiment(polarity=-0.8, subjectivity=0.9)\n",
      "Sentiment(polarity=0.2, subjectivity=0.2)\n",
      "Sentiment(polarity=0.0, subjectivity=0.0)\n",
      "Sentiment(polarity=0.6000000000000001, subjectivity=0.9)\n"
     ]
    }
   ],
   "source": [
    "for sen in tessent:\n",
    "    print(sen.sentiment)"
   ]
  },
  {
   "cell_type": "markdown",
   "metadata": {},
   "source": [
    "# Penentuan sentimen dari data set"
   ]
  },
  {
   "cell_type": "code",
   "execution_count": 7,
   "metadata": {},
   "outputs": [
    {
     "name": "stdout",
     "output_type": "stream",
     "text": [
      "['pos', 'neg', 'net', 'net', 'pos']\n"
     ]
    }
   ],
   "source": [
    "Se = []\n",
    "for Klmt in tessent:\n",
    "    Sen = Klmt.sentiment.polarity\n",
    "    if Sen>0.2:\n",
    "        Se.append('pos')\n",
    "    elif Sen<-0.05:\n",
    "        Se.append('neg')\n",
    "    else:\n",
    "        Se.append('net')\n",
    "print(Se)"
   ]
  },
  {
   "cell_type": "markdown",
   "metadata": {},
   "source": [
    "# Pie Chart Hasil Klasifikasi"
   ]
  },
  {
   "cell_type": "code",
   "execution_count": 9,
   "metadata": {},
   "outputs": [],
   "source": [
    "import matplotlib.pyplot as plt\n",
    "def PieChart(score,labels):\n",
    "    fig1 = plt.figure() ; fig1.add_subplot(111)\n",
    "    plt.pie(score, labels=labels, autopct='%1.1f%%', startangle=140)\n",
    "    plt.axis('equal');plt.show()\n",
    "    return None"
   ]
  },
  {
   "cell_type": "code",
   "execution_count": 10,
   "metadata": {},
   "outputs": [
    {
     "name": "stdout",
     "output_type": "stream",
     "text": [
      "pos\n",
      "neg\n",
      "net\n",
      "net\n",
      "pos\n",
      "[2, 1, 2]\n"
     ]
    },
    {
     "data": {
      "image/png": "[encoded data removed]",
      "text/plain": [
       "<Figure size 432x288 with 1 Axes>"
      ]
     },
     "metadata": {},
     "output_type": "display_data"
    }
   ],
   "source": [
    "for i in Se:\n",
    "    print(i)\n",
    "    score_se = [len([True for t in Se if t=='pos']),\n",
    "                len([True for t in Se if t=='neg']),\n",
    "                len([True for t in Se if t=='net'])\n",
    "               ]\n",
    "print(score_se)\n",
    "label_se = ['Positif','Negatif','Netral']\n",
    "PieChart(score_se,label_se)"
   ]
  },
  {
   "cell_type": "code",
   "execution_count": null,
   "metadata": {},
   "outputs": [],
   "source": []
  }
 ],
 "metadata": {
  "kernelspec": {
   "display_name": "Python 3",
   "language": "python",
   "name": "python3"
  },
  "language_info": {
   "codemirror_mode": {
    "name": "ipython",
    "version": 3
   },
   "file_extension": ".py",
   "mimetype": "text/x-python",
   "name": "python",
   "nbconvert_exporter": "python",
   "pygments_lexer": "ipython3",
   "version": "3.8.3"
  }
 },
 "nbformat": 4,
 "nbformat_minor": 4
}
