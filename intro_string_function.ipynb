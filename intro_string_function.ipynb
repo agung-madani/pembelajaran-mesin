{
 "cells": [
  {
   "cell_type": "markdown",
   "metadata": {},
   "source": [
    "# INTRO STRING FUNCTION"
   ]
  },
  {
   "cell_type": "markdown",
   "metadata": {},
   "source": [
    "### 1. Pemrosesan String"
   ]
  },
  {
   "cell_type": "markdown",
   "metadata": {},
   "source": [
    "### 2. Intro Machine Learning untuk Text Mining"
   ]
  },
  {
   "cell_type": "code",
   "execution_count": 1,
   "metadata": {},
   "outputs": [],
   "source": [
    "import nltk\n",
    "import numpy as np\n",
    "import pandas as pd\n",
    "from nltk.tokenize import sent_tokenize\n",
    "from nltk.tokenize import word_tokenize\n",
    "from collections import Counter"
   ]
  },
  {
   "cell_type": "markdown",
   "metadata": {},
   "source": [
    "##### Materi ini membahas tentang manipulasi string/text untuk pengantar materi Text Mining"
   ]
  },
  {
   "cell_type": "code",
   "execution_count": 2,
   "metadata": {},
   "outputs": [],
   "source": [
    "text = \"this's a sent tokenize test. this is sent two. is this sent three? sent 4 is cool! Now it's your turn.\""
   ]
  },
  {
   "cell_type": "markdown",
   "metadata": {},
   "source": [
    "##### Artikel text yang ada di variabel text dipecah per kalimat."
   ]
  },
  {
   "cell_type": "code",
   "execution_count": 3,
   "metadata": {},
   "outputs": [
    {
     "name": "stdout",
     "output_type": "stream",
     "text": [
      "[\"this's a sent tokenize test.\", 'this is sent two.', 'is this sent three?', 'sent 4 is cool!', \"Now it's your turn.\"]\n"
     ]
    }
   ],
   "source": [
    "kal = text\n",
    "kalimat = nltk.sent_tokenize(kal)\n",
    "print(kalimat)"
   ]
  },
  {
   "cell_type": "markdown",
   "metadata": {},
   "source": [
    "##### Pecah text menjadi per kalimat"
   ]
  },
  {
   "cell_type": "code",
   "execution_count": 4,
   "metadata": {},
   "outputs": [
    {
     "name": "stdout",
     "output_type": "stream",
     "text": [
      "['this', \"'s\", 'a', 'sent', 'tokenize', 'test', '.', 'this', 'is', 'sent', 'two', '.', 'is', 'this', 'sent', 'three', '?', 'sent', '4', 'is', 'cool', '!', 'Now', 'it', \"'s\", 'your', 'turn', '.']\n"
     ]
    }
   ],
   "source": [
    "# Cara 1\n",
    "words = nltk.word_tokenize(text)\n",
    "print(words)"
   ]
  },
  {
   "cell_type": "code",
   "execution_count": 5,
   "metadata": {},
   "outputs": [
    {
     "name": "stdout",
     "output_type": "stream",
     "text": [
      "['this', 'a', 'sent', 'tokenize', 'test', 'this', 'is', 'sent', 'two', 'is', 'this', 'sent', 'three', 'sent', 'is', 'cool', 'now', 'it', 'your', 'turn']\n"
     ]
    }
   ],
   "source": [
    "# Cara 2\n",
    "words = [word.lower() for word in words if word.isalpha()]\n",
    "print(words)"
   ]
  },
  {
   "cell_type": "markdown",
   "metadata": {},
   "source": [
    "##### Apa bedanya cara 1 dengan cara 2?"
   ]
  },
  {
   "cell_type": "code",
   "execution_count": 6,
   "metadata": {},
   "outputs": [],
   "source": [
    "# cara 1 tanda baca ikut terpecah dan dimasukkan ke dalam list, \n",
    "# huruf tunggal juga dimasukkan ke dalam list\n",
    "# Sedangkan cara 2 tanda baca tidak dimasukkan ke dalam list, \n",
    "# begitu juga dengan huruf tunggal. Cara 2 hanya memasukkan kata \n",
    "# ke dalam list"
   ]
  },
  {
   "cell_type": "code",
   "execution_count": 7,
   "metadata": {},
   "outputs": [],
   "source": [
    "jmlktwr = Counter(words).most_common()"
   ]
  },
  {
   "cell_type": "code",
   "execution_count": 8,
   "metadata": {
    "scrolled": true
   },
   "outputs": [
    {
     "name": "stdout",
     "output_type": "stream",
     "text": [
      "[('sent', 4), ('this', 3), ('is', 3), ('a', 1), ('tokenize', 1), ('test', 1), ('two', 1), ('three', 1), ('cool', 1), ('now', 1), ('it', 1), ('your', 1), ('turn', 1)]\n"
     ]
    }
   ],
   "source": [
    "print(jmlktwr)"
   ]
  },
  {
   "cell_type": "code",
   "execution_count": 9,
   "metadata": {
    "scrolled": true
   },
   "outputs": [
    {
     "name": "stdout",
     "output_type": "stream",
     "text": [
      "<class 'list'>\n"
     ]
    }
   ],
   "source": [
    "print(type(jmlktwr))"
   ]
  },
  {
   "cell_type": "markdown",
   "metadata": {},
   "source": [
    "##### Hitung bobot kata berdasarkan rata-rata. Rumus = jumlah kata tsb / total jumlah kata dalam 1 kalimat\n",
    "##### Susun kata dan bobotnya ke dalam List"
   ]
  },
  {
   "cell_type": "code",
   "execution_count": 40,
   "metadata": {},
   "outputs": [
    {
     "data": {
      "text/plain": [
       "20"
      ]
     },
     "execution_count": 40,
     "metadata": {},
     "output_type": "execute_result"
    }
   ],
   "source": [
    "tkata = len(words)\n",
    "tkata"
   ]
  },
  {
   "cell_type": "code",
   "execution_count": 10,
   "metadata": {},
   "outputs": [
    {
     "name": "stdout",
     "output_type": "stream",
     "text": [
      "sent 4 0.2\n",
      "this 3 0.15\n",
      "is 3 0.15\n",
      "a 1 0.05\n",
      "tokenize 1 0.05\n",
      "test 1 0.05\n",
      "two 1 0.05\n",
      "three 1 0.05\n",
      "cool 1 0.05\n",
      "now 1 0.05\n",
      "it 1 0.05\n",
      "your 1 0.05\n",
      "turn 1 0.05\n"
     ]
    }
   ],
   "source": [
    "lsgabok = []\n",
    "lskt = []\n",
    "lsbbt = []\n",
    "\n",
    "tkata = len(words)\n",
    "for kt, jkt in jmlktwr:\n",
    "    jbbt = jkt/tkata\n",
    "    lskt.append(kt)\n",
    "    lsbbt.append(jbbt)\n",
    "    lsgabok.append((kt,jbbt))\n",
    "    print(kt,jkt,jbbt)"
   ]
  },
  {
   "cell_type": "code",
   "execution_count": 11,
   "metadata": {},
   "outputs": [
    {
     "name": "stdout",
     "output_type": "stream",
     "text": [
      "[('sent', 0.2), ('this', 0.15), ('is', 0.15), ('a', 0.05), ('tokenize', 0.05), ('test', 0.05), ('two', 0.05), ('three', 0.05), ('cool', 0.05), ('now', 0.05), ('it', 0.05), ('your', 0.05), ('turn', 0.05)]\n"
     ]
    }
   ],
   "source": [
    "print(lsgabok)"
   ]
  },
  {
   "cell_type": "code",
   "execution_count": 12,
   "metadata": {},
   "outputs": [
    {
     "name": "stdout",
     "output_type": "stream",
     "text": [
      "<class 'list'>\n"
     ]
    }
   ],
   "source": [
    "print(type(lsgabok))"
   ]
  },
  {
   "cell_type": "code",
   "execution_count": 13,
   "metadata": {},
   "outputs": [
    {
     "name": "stdout",
     "output_type": "stream",
     "text": [
      "('sent', 0.2)\n"
     ]
    }
   ],
   "source": [
    "print(lsgabok[0])"
   ]
  },
  {
   "cell_type": "code",
   "execution_count": 14,
   "metadata": {},
   "outputs": [
    {
     "data": {
      "text/plain": [
       "['sent',\n",
       " 'this',\n",
       " 'is',\n",
       " 'a',\n",
       " 'tokenize',\n",
       " 'test',\n",
       " 'two',\n",
       " 'three',\n",
       " 'cool',\n",
       " 'now',\n",
       " 'it',\n",
       " 'your',\n",
       " 'turn']"
      ]
     },
     "execution_count": 14,
     "metadata": {},
     "output_type": "execute_result"
    }
   ],
   "source": [
    "lskt"
   ]
  },
  {
   "cell_type": "code",
   "execution_count": 15,
   "metadata": {},
   "outputs": [
    {
     "data": {
      "text/plain": [
       "[0.2, 0.15, 0.15, 0.05, 0.05, 0.05, 0.05, 0.05, 0.05, 0.05, 0.05, 0.05, 0.05]"
      ]
     },
     "execution_count": 15,
     "metadata": {},
     "output_type": "execute_result"
    }
   ],
   "source": [
    "lsbbt"
   ]
  },
  {
   "cell_type": "markdown",
   "metadata": {},
   "source": [
    "#### Membuat list model 1"
   ]
  },
  {
   "cell_type": "code",
   "execution_count": 16,
   "metadata": {},
   "outputs": [
    {
     "name": "stdout",
     "output_type": "stream",
     "text": [
      "<class 'tuple'>\n"
     ]
    }
   ],
   "source": [
    "lsgab1 = lskt, lsbbt\n",
    "print(type(lsgab1))"
   ]
  },
  {
   "cell_type": "code",
   "execution_count": 17,
   "metadata": {},
   "outputs": [
    {
     "name": "stdout",
     "output_type": "stream",
     "text": [
      "(['sent', 'this', 'is', 'a', 'tokenize', 'test', 'two', 'three', 'cool', 'now', 'it', 'your', 'turn'], [0.2, 0.15, 0.15, 0.05, 0.05, 0.05, 0.05, 0.05, 0.05, 0.05, 0.05, 0.05, 0.05])\n"
     ]
    }
   ],
   "source": [
    "print(lsgab1)"
   ]
  },
  {
   "cell_type": "code",
   "execution_count": 18,
   "metadata": {},
   "outputs": [
    {
     "name": "stdout",
     "output_type": "stream",
     "text": [
      "[0.2, 0.15, 0.15, 0.05, 0.05, 0.05, 0.05, 0.05, 0.05, 0.05, 0.05, 0.05, 0.05]\n"
     ]
    }
   ],
   "source": [
    "print(lsgab1[1])"
   ]
  },
  {
   "cell_type": "code",
   "execution_count": 19,
   "metadata": {},
   "outputs": [
    {
     "name": "stdout",
     "output_type": "stream",
     "text": [
      "['sent', 'this', 'is', 'a', 'tokenize', 'test', 'two', 'three', 'cool', 'now', 'it', 'your', 'turn']\n"
     ]
    }
   ],
   "source": [
    "print(lsgab1[0])"
   ]
  },
  {
   "cell_type": "code",
   "execution_count": 20,
   "metadata": {},
   "outputs": [
    {
     "name": "stdout",
     "output_type": "stream",
     "text": [
      "sent 0.2\n"
     ]
    }
   ],
   "source": [
    "print(lsgab1[0][0],lsgab1[1][0])"
   ]
  },
  {
   "cell_type": "markdown",
   "metadata": {},
   "source": [
    "#### Membuat list model 2"
   ]
  },
  {
   "cell_type": "code",
   "execution_count": 21,
   "metadata": {},
   "outputs": [
    {
     "name": "stdout",
     "output_type": "stream",
     "text": [
      "[['sent', 'this', 'is', 'a', 'tokenize', 'test', 'two', 'three', 'cool', 'now', 'it', 'your', 'turn'], [0.2, 0.15, 0.15, 0.05, 0.05, 0.05, 0.05, 0.05, 0.05, 0.05, 0.05, 0.05, 0.05]]\n",
      "<class 'list'>\n"
     ]
    }
   ],
   "source": [
    "# Gabung 2 list\n",
    "lsgab = [lskt,lsbbt]\n",
    "print(lsgab)\n",
    "print(type(lsgab))"
   ]
  },
  {
   "cell_type": "code",
   "execution_count": 22,
   "metadata": {},
   "outputs": [
    {
     "name": "stdout",
     "output_type": "stream",
     "text": [
      "['sent', 'this', 'is', 'a', 'tokenize', 'test', 'two', 'three', 'cool', 'now', 'it', 'your', 'turn']\n"
     ]
    }
   ],
   "source": [
    "print(lsgab[0])"
   ]
  },
  {
   "cell_type": "code",
   "execution_count": 23,
   "metadata": {},
   "outputs": [
    {
     "name": "stdout",
     "output_type": "stream",
     "text": [
      "[0.2, 0.15, 0.15, 0.05, 0.05, 0.05, 0.05, 0.05, 0.05, 0.05, 0.05, 0.05, 0.05]\n"
     ]
    }
   ],
   "source": [
    "print(lsgab[1])"
   ]
  },
  {
   "cell_type": "markdown",
   "metadata": {},
   "source": [
    "#### Membuat list model 3"
   ]
  },
  {
   "cell_type": "code",
   "execution_count": 24,
   "metadata": {
    "scrolled": true
   },
   "outputs": [
    {
     "name": "stdout",
     "output_type": "stream",
     "text": [
      "[['sent' 'this' 'is' 'a' 'tokenize' 'test' 'two' 'three' 'cool' 'now'\n",
      "  'it' 'your' 'turn']\n",
      " ['0.2' '0.15' '0.15' '0.05' '0.05' '0.05' '0.05' '0.05' '0.05' '0.05'\n",
      "  '0.05' '0.05' '0.05']]\n"
     ]
    }
   ],
   "source": [
    "isiall = np.vstack((lskt,lsbbt))\n",
    "print(isiall)"
   ]
  },
  {
   "cell_type": "code",
   "execution_count": 25,
   "metadata": {},
   "outputs": [],
   "source": [
    "datakt = {'kata':lskt,'bobot':lsbbt}\n",
    "df = pd.DataFrame(data=datakt)"
   ]
  },
  {
   "cell_type": "code",
   "execution_count": 26,
   "metadata": {},
   "outputs": [
    {
     "name": "stdout",
     "output_type": "stream",
     "text": [
      "        kata  bobot\n",
      "0       sent   0.20\n",
      "1       this   0.15\n",
      "2         is   0.15\n",
      "3          a   0.05\n",
      "4   tokenize   0.05\n",
      "5       test   0.05\n",
      "6        two   0.05\n",
      "7      three   0.05\n",
      "8       cool   0.05\n",
      "9        now   0.05\n",
      "10        it   0.05\n",
      "11      your   0.05\n",
      "12      turn   0.05\n"
     ]
    }
   ],
   "source": [
    "print(df)"
   ]
  },
  {
   "cell_type": "code",
   "execution_count": 27,
   "metadata": {},
   "outputs": [
    {
     "name": "stdout",
     "output_type": "stream",
     "text": [
      "   kata  bobot\n",
      "0  sent    0.2\n"
     ]
    }
   ],
   "source": [
    "print(df[:1])"
   ]
  },
  {
   "cell_type": "code",
   "execution_count": 28,
   "metadata": {},
   "outputs": [
    {
     "name": "stdout",
     "output_type": "stream",
     "text": [
      "['this', 'a', 'sent', 'tokenize', 'test', 'this', 'is', 'sent', 'two', 'is', 'this', 'sent', 'three', 'sent', 'is', 'cool', 'now', 'it', 'your', 'turn']\n",
      "{'three', 'cool', 'this', 'tokenize', 'test', 'a', 'sent', 'it', 'turn', 'now', 'your', 'is', 'two'}\n"
     ]
    }
   ],
   "source": [
    "print(words)\n",
    "wordSet = set(words)\n",
    "print(wordSet)"
   ]
  },
  {
   "cell_type": "markdown",
   "metadata": {},
   "source": [
    "##### perbedaan words dan wordset di atas?"
   ]
  },
  {
   "cell_type": "code",
   "execution_count": 29,
   "metadata": {},
   "outputs": [],
   "source": [
    "# dalam wordset kata yang sama tidak masuk kedalam list"
   ]
  },
  {
   "cell_type": "markdown",
   "metadata": {},
   "source": [
    "### Tugas Praktikum"
   ]
  },
  {
   "cell_type": "markdown",
   "metadata": {},
   "source": [
    "##### Carilah bobot setiap kalimat dengan cara menjumlahkan bobot kata yang didapat dari proses di atas, contoh output nanti akan seperti ini."
   ]
  },
  {
   "cell_type": "code",
   "execution_count": null,
   "metadata": {},
   "outputs": [],
   "source": []
  },
  {
   "cell_type": "markdown",
   "metadata": {},
   "source": [
    "### Cara lain dengan TextBlob()"
   ]
  },
  {
   "cell_type": "code",
   "execution_count": 30,
   "metadata": {},
   "outputs": [],
   "source": [
    "K1 = \"Hari ini saya senang sekali\"\n",
    "K2 = \"Besok kita akan pergi ke luar kota\"\n",
    "K3 = \"Hari yang cerah dan menyenangkan untuk pergi ke pasar\""
   ]
  },
  {
   "cell_type": "code",
   "execution_count": 31,
   "metadata": {},
   "outputs": [],
   "source": [
    "bloblist = []"
   ]
  },
  {
   "cell_type": "code",
   "execution_count": 32,
   "metadata": {},
   "outputs": [],
   "source": [
    "from textblob import TextBlob as tb\n",
    "\n",
    "bloblist.append(tb(K1))\n",
    "bloblist.append(tb(K2))\n",
    "bloblist.append(tb(K3))"
   ]
  },
  {
   "cell_type": "code",
   "execution_count": 33,
   "metadata": {},
   "outputs": [
    {
     "data": {
      "text/plain": [
       "[TextBlob(\"Hari ini saya senang sekali\"),\n",
       " TextBlob(\"Besok kita akan pergi ke luar kota\"),\n",
       " TextBlob(\"Hari yang cerah dan menyenangkan untuk pergi ke pasar\")]"
      ]
     },
     "execution_count": 33,
     "metadata": {},
     "output_type": "execute_result"
    }
   ],
   "source": [
    "bloblist"
   ]
  },
  {
   "cell_type": "code",
   "execution_count": 34,
   "metadata": {},
   "outputs": [
    {
     "name": "stdout",
     "output_type": "stream",
     "text": [
      "kalimat ke : 0\n",
      "Hari ini saya senang sekali\n",
      "['hari', 'ini', 'saya', 'senang', 'sekali']\n",
      "kalimat ke : 1\n",
      "Besok kita akan pergi ke luar kota\n",
      "['besok', 'kita', 'akan', 'pergi', 'ke', 'luar', 'kota']\n",
      "kalimat ke : 2\n",
      "Hari yang cerah dan menyenangkan untuk pergi ke pasar\n",
      "['hari', 'yang', 'cerah', 'dan', 'menyenangkan', 'untuk', 'pergi', 'ke', 'pasar']\n"
     ]
    }
   ],
   "source": [
    "lisall = []\n",
    "for i, blob in enumerate(bloblist):\n",
    "    print('kalimat ke :',i)\n",
    "    print(blob)\n",
    "    print(blob.words.lower())"
   ]
  },
  {
   "cell_type": "code",
   "execution_count": 35,
   "metadata": {
    "scrolled": true
   },
   "outputs": [
    {
     "name": "stdout",
     "output_type": "stream",
     "text": [
      "[WordList(['hari', 'yang', 'cerah', 'dan', 'menyenangkan', 'untuk', 'pergi', 'ke', 'pasar'])]\n"
     ]
    }
   ],
   "source": [
    "list = blob.words.lower()\n",
    "lisall.append(list)\n",
    "print(lisall)"
   ]
  },
  {
   "cell_type": "markdown",
   "metadata": {},
   "source": [
    "### Pengenalan TF-IDF"
   ]
  },
  {
   "cell_type": "code",
   "execution_count": 36,
   "metadata": {
    "scrolled": false
   },
   "outputs": [],
   "source": [
    "from sklearn.feature_extraction.text import TfidfVectorizer"
   ]
  },
  {
   "cell_type": "code",
   "execution_count": 37,
   "metadata": {},
   "outputs": [],
   "source": [
    "tfidf = TfidfVectorizer()"
   ]
  },
  {
   "cell_type": "code",
   "execution_count": 38,
   "metadata": {},
   "outputs": [],
   "source": [
    "TfKal = tfidf.fit_transform(kalimat)"
   ]
  },
  {
   "cell_type": "code",
   "execution_count": 39,
   "metadata": {},
   "outputs": [
    {
     "name": "stdout",
     "output_type": "stream",
     "text": [
      "  (0, 5)\t0.6012854497921586\n",
      "  (0, 8)\t0.6012854497921586\n",
      "  (0, 4)\t0.338753734033932\n",
      "  (0, 6)\t0.40268787343866097\n",
      "  (1, 10)\t0.6720000200160435\n",
      "  (1, 1)\t0.45004624526426906\n",
      "  (1, 4)\t0.3785930894053716\n",
      "  (1, 6)\t0.45004624526426906\n",
      "  (2, 7)\t0.6720000200160435\n",
      "  (2, 1)\t0.45004624526426906\n",
      "  (2, 4)\t0.3785930894053716\n",
      "  (2, 6)\t0.45004624526426906\n",
      "  (3, 0)\t0.7525151949161979\n",
      "  (3, 1)\t0.5039681962632367\n",
      "  (3, 4)\t0.42395393449691715\n",
      "  (4, 9)\t0.5\n",
      "  (4, 11)\t0.5\n",
      "  (4, 2)\t0.5\n",
      "  (4, 3)\t0.5\n"
     ]
    }
   ],
   "source": [
    "print(TfKal)"
   ]
  },
  {
   "cell_type": "code",
   "execution_count": null,
   "metadata": {},
   "outputs": [],
   "source": []
  },
  {
   "cell_type": "code",
   "execution_count": null,
   "metadata": {},
   "outputs": [],
   "source": []
  }
 ],
 "metadata": {
  "kernelspec": {
   "display_name": "Python 3",
   "language": "python",
   "name": "python3"
  },
  "language_info": {
   "codemirror_mode": {
    "name": "ipython",
    "version": 3
   },
   "file_extension": ".py",
   "mimetype": "text/x-python",
   "name": "python",
   "nbconvert_exporter": "python",
   "pygments_lexer": "ipython3",
   "version": "3.8.3"
  }
 },
 "nbformat": 4,
 "nbformat_minor": 4
}
